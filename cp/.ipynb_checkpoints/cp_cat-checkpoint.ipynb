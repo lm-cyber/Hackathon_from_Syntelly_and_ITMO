{
 "cells": [
  {
   "cell_type": "code",
   "execution_count": 1,
   "id": "5622f572-8bc1-4abb-98d2-6ba9816047d6",
   "metadata": {},
   "outputs": [
    {
     "name": "stdout",
     "output_type": "stream",
     "text": [
      "Enabling notebook extension jupyter-js-widgets/extension...\n",
      "      - Validating: \u001b[32mOK\u001b[0m\n"
     ]
    }
   ],
   "source": [
    "# !pip install --user --upgrade catboost\n",
    "# !pip install --user --upgrade ipywidgets\n",
    "# !pip install shap\n",
    "# !pip install sklearn\n",
    "# !pip install --upgrade numpy\n",
    "!jupyter nbextension enable --py widgetsnbextension"
   ]
  },
  {
   "cell_type": "code",
   "execution_count": 2,
   "id": "41c91b42-1cac-4a69-b641-e4a35d09f0c6",
   "metadata": {},
   "outputs": [
    {
     "name": "stdout",
     "output_type": "stream",
     "text": [
      "/giga_chad\n"
     ]
    },
    {
     "name": "stderr",
     "output_type": "stream",
     "text": [
      "/usr/local/lib/python3.6/dist-packages/pkg_resources/__init__.py:119: PkgResourcesDeprecationWarning: 0.18ubuntu0.18.04.1 is an invalid version and will not be supported in a future release\n",
      "  PkgResourcesDeprecationWarning,\n"
     ]
    }
   ],
   "source": [
    "!pwd\n",
    "import pandas as pd\n",
    "import numpy as np\n",
    "from sklearn.metrics import roc_auc_score, f1_score\n",
    "from sklearn.model_selection import train_test_split\n",
    "import catboost\n",
    "from catboost import *\n",
    "from catboost import datasets"
   ]
  },
  {
   "cell_type": "code",
   "execution_count": 3,
   "id": "3e4d327b-cb46-4d8c-be4d-3474c731c4a6",
   "metadata": {},
   "outputs": [],
   "source": [
    "df_tr = pd.read_csv('/data/tg_catboost/df_tg_train.csv')\n",
    "df_t = pd.read_csv('/data/tg_catboost/df_tg_test.csv')\n",
    "df_v = pd.read_csv('/data/tg_catboost/df_tg_valid.csv')\n",
    "x = df_tr.drop(['y','w','ids'],axis=1)\n",
    "y = df_tr['y']\n",
    "xt = df_t.drop(['y','w','ids'],axis=1)\n",
    "x_smiles = df_t['ids'].to_numpy()\n",
    "\n",
    "yt = df_t['y']\n",
    "xv = df_v.drop(['y','w','ids'],axis=1)\n",
    "\n",
    "yv = df_v['y']"
   ]
  },
  {
   "cell_type": "code",
   "execution_count": 4,
   "id": "f31267d2-3194-4dce-ace3-91255c80eb36",
   "metadata": {},
   "outputs": [],
   "source": [
    "def set_seed(s):\n",
    "    seed_value= s\n",
    "    import os\n",
    "    os.environ['PYTHONHASHSEED']=str(seed_value)\n",
    "    import random\n",
    "    random.seed(seed_value)\n",
    "    import numpy as np\n",
    "    np.random.seed(seed_value)\n",
    "\n"
   ]
  },
  {
   "cell_type": "code",
   "execution_count": 5,
   "id": "f237cbf6-a455-4066-81fe-63f3922bad48",
   "metadata": {},
   "outputs": [],
   "source": [
    "set_seed(17)"
   ]
  },
  {
   "cell_type": "code",
   "execution_count": 6,
   "id": "d9bb1ad9-f87e-43e5-a815-06f94091c33a",
   "metadata": {},
   "outputs": [],
   "source": [
    "import matplotlib.pyplot as plt\n",
    "def show_history(hist):\n",
    "    acc = hist.history['AUC']\n",
    "    val_acc = hist.history['val_AUC']\n",
    "    epochs = range(1, len(acc) + 1)\n",
    "\n",
    "    plt.plot(epochs, acc, '-', label='AUC')\n",
    "    plt.plot(epochs, val_acc, ':', label='Validation Accuracy')\n",
    "    plt.title('Training and Validation Accuracy')\n",
    "    plt.xlabel('Epoch')\n",
    "    plt.ylabel('Accuracy')\n",
    "    plt.legend(loc='lower right')\n",
    "    plt.plot()"
   ]
  },
  {
   "cell_type": "code",
   "execution_count": 7,
   "id": "61e04477-3e03-4d07-a677-35398b3fb0c2",
   "metadata": {},
   "outputs": [],
   "source": [
    "cat_features = list(range(x.shape[1]))"
   ]
  },
  {
   "cell_type": "code",
   "execution_count": 8,
   "id": "f4c9196a-ad82-41d8-8e68-497e275c981c",
   "metadata": {},
   "outputs": [
    {
     "data": {
      "text/plain": [
       "int"
      ]
     },
     "execution_count": 8,
     "metadata": {},
     "output_type": "execute_result"
    }
   ],
   "source": [
    "type(cat_features[0])"
   ]
  },
  {
   "cell_type": "code",
   "execution_count": 9,
   "id": "6f092187-8201-4ef6-8e73-85c3a9ab8d49",
   "metadata": {},
   "outputs": [],
   "source": [
    "pool = Pool(data=x, label=y)\n"
   ]
  },
  {
   "cell_type": "code",
   "execution_count": 10,
   "id": "ad3dbf70-b3e8-4830-b4c2-84849bf7ec41",
   "metadata": {},
   "outputs": [
    {
     "data": {
      "application/vnd.jupyter.widget-view+json": {
       "model_id": "bc21e44cffbb48efa4fe08bf806602db",
       "version_major": 2,
       "version_minor": 0
      },
      "text/plain": [
       "MetricVisualizer(layout=Layout(align_self='stretch', height='500px'))"
      ]
     },
     "metadata": {},
     "output_type": "display_data"
    },
    {
     "name": "stdout",
     "output_type": "stream",
     "text": [
      "Model is fitted: True\n",
      "Model params:\n",
      "{'eval_metric': 'AUC', 'loss_function': 'CrossEntropy', 'learning_rate': 1e-05, 'iterations': 50}\n"
     ]
    }
   ],
   "source": [
    "from catboost import CatBoostClassifier\n",
    "model = CatBoostClassifier(\n",
    "    iterations=50,\n",
    "    learning_rate=0.00001,\n",
    "    loss_function='CrossEntropy',\n",
    "    eval_metric='AUC',\n",
    "    \n",
    "    # weight=w\n",
    "        # stratify=True\n",
    "\n",
    "\n",
    "    # task_type=\"GPU\"\n",
    ")\n",
    "\n",
    "model.fit(\n",
    "    x, y,\n",
    "    # cat_features=cat_features,\n",
    "    eval_set=(xv, yv),\n",
    "    verbose=False,\n",
    "    plot=True,\n",
    "\n",
    ")\n",
    "print('Model is fitted: ' + str(model.is_fitted()))\n",
    "print('Model params:')\n",
    "print(model.get_params())"
   ]
  },
  {
   "cell_type": "code",
   "execution_count": 11,
   "id": "ffeed3b9-7da8-4230-8410-99225f2824d6",
   "metadata": {},
   "outputs": [
    {
     "data": {
      "text/plain": [
       "0.644489247311828"
      ]
     },
     "execution_count": 11,
     "metadata": {},
     "output_type": "execute_result"
    }
   ],
   "source": [
    "roc_auc_score(yt,model.predict_proba(xt)[:,1])"
   ]
  },
  {
   "cell_type": "code",
   "execution_count": 12,
   "id": "30d1a8aa-3f4a-41ab-9d56-23e0398d2ea3",
   "metadata": {},
   "outputs": [],
   "source": [
    "pred = model.predict(xt).astype('int64')\n",
    "df_savey = pd.DataFrame(data={'smiles':list(x_smiles)})\n",
    "df_savey['y']=pred\n",
    "df_savey.to_csv('output_classification_y.csv',index=False)    "
   ]
  }
 ],
 "metadata": {
  "kernelspec": {
   "display_name": "Python 3",
   "language": "python",
   "name": "python3"
  },
  "language_info": {
   "codemirror_mode": {
    "name": "ipython",
    "version": 3
   },
   "file_extension": ".py",
   "mimetype": "text/x-python",
   "name": "python",
   "nbconvert_exporter": "python",
   "pygments_lexer": "ipython3",
   "version": "3.6.9"
  }
 },
 "nbformat": 4,
 "nbformat_minor": 5
}
